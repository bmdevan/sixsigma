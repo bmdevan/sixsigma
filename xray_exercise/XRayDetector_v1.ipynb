{
 "cells": [
  {
   "cell_type": "code",
   "execution_count": 1,
   "metadata": {},
   "outputs": [],
   "source": [
    "# Import the Modules into the Notebook\n",
    "from uncertainties import ufloat\n",
    "from uncertainties.umath import * \n"
   ]
  },
  {
   "cell_type": "code",
   "execution_count": 2,
   "metadata": {},
   "outputs": [
    {
     "name": "stdout",
     "output_type": "stream",
     "text": [
      "{'beamHeight': 100.0+/-0.25, 'beamWidth': 50.0+/-0.25, 'beamThick': 4.5+/-0.1, 'beamLength': 500.0+/-0.2}\n",
      "{'elasticModulus': 200.0+/-6.67, 'density': 8.8e-06+/-0}\n",
      "{'gravity': 9.81+/-0, 'tubeMass': 90.0+/-0.08333, 'tubePos': 0.0+/-0}\n",
      "{'beamFrequency': 0.0+/-0, 'beamMass': 0.0+/-0, 'beamDeflection': 0.0+/-0, 'beamStress': 0.0+/-0}\n",
      "{'force': 0.0+/-0, 'beamDistToCL': 600.0+/-0.0667, 'omega': 12.56+/-0.041867, 'pos': 0.0+/-0}\n",
      "{'pos': -0.5+/-0.0333}\n",
      "{'fsAlign': 0.0+/-0}\n"
     ]
    }
   ],
   "source": [
    "# Setup the Structure\n",
    "\n",
    "# Geometry\n",
    "geometryDict = {}\n",
    "geometryDict['beamHeight'] = ufloat(100, 0.25)\n",
    "geometryDict['beamLength'] = ufloat(500, 0.2)\n",
    "geometryDict['beamThick'] = ufloat(4.5, 0.1)\n",
    "geometryDict['beamWidth'] = ufloat(50, 0.25)\n",
    "print geometryDict\n",
    "\n",
    "materialDict = {}\n",
    "materialDict['elasticModulus'] = ufloat(200, 6.67)\n",
    "materialDict['density'] = ufloat(8.8E-6, 0)\n",
    "print materialDict\n",
    "\n",
    "tubeDict = {}\n",
    "tubeDict['tubePos'] = ufloat(0, 0)\n",
    "tubeDict['tubeMass'] = ufloat(90, 0.08333)\n",
    "tubeDict['gravity'] = ufloat(9.81, 0)\n",
    "print tubeDict\n",
    "\n",
    "beamDict = {}\n",
    "beamDict['beamDeflection'] = ufloat(0, 0)\n",
    "beamDict['beamFrequency'] = ufloat(0, 0)\n",
    "beamDict['beamStress'] = ufloat(0, 0)\n",
    "beamDict['beamMass'] = ufloat(0, 0)\n",
    "print beamDict\n",
    "\n",
    "sourceDict = {}\n",
    "sourceDict['pos'] = ufloat(0, 0)\n",
    "sourceDict['beamDistToCL'] = ufloat(600, 0.0667)\n",
    "sourceDict['omega'] = ufloat(12.56, 0.041867)\n",
    "sourceDict['force'] = ufloat(0, 0)\n",
    "print sourceDict\n",
    "\n",
    "detectorDict = {}\n",
    "detectorDict['pos'] = ufloat(-0.5, 0.0333)\n",
    "print detectorDict\n",
    "\n",
    "xRayDict = {}\n",
    "xRayDict['fsAlign'] = ufloat(0, 0)\n",
    "print xRayDict"
   ]
  },
  {
   "cell_type": "code",
   "execution_count": 36,
   "metadata": {},
   "outputs": [
    {
     "name": "stdout",
     "output_type": "stream",
     "text": [
      "{'detectorDict': {'pos': -0.5+/-0.0333}, 'materialDict': {'elasticModulus': 200.0+/-6.67, 'density': 8.8e-06+/-0}, 'sourceDict': {'force': 8519577.3+/-57344.77197592552, 'beamDistToCL': 600.0+/-0.0667, 'omega': 12.56+/-0.041867, 'pos': -1277936.5950000004+/-45004.74792481405, 'fsAlign': 1277936.0950000004+/-45004.74792482637}, 'geometryDict': {'beamHeight': 100.0+/-0.25, 'beamWidth': 50.0+/-0.25, 'beamThick': 4.5+/-0.1, 'beamLength': 500.0+/-0.2}, 'tubeDict': {'gravity': 9.81+/-0, 'tubeMass': 90.0+/-0.08333, 'tubePos': 0.0+/-0}, 'xRayDict': {'fsAlign': 0.0+/-0}, 'beamDict': {'beamFrequency': 833333333.3333334+/-28788892.775204506, 'beamMass': 6.2964+/-0.14852282230173783, 'beamDeflection': 1277936.5950000004+/-45004.74792481405, 'beamStress': 37864.788+/-899.3446949216311}}\n"
     ]
    }
   ],
   "source": [
    "# To permit calling and transferring information across all subsystems\n",
    "# Package it into an overall dict so that the\n",
    "# Analytical and Response Surface can be programmed inside the functional blocks\n",
    "overallSystemDict = {}\n",
    "overallSystemDict['xRayDict'] = xRayDict\n",
    "overallSystemDict['detectorDict'] = detectorDict\n",
    "overallSystemDict['sourceDict'] = sourceDict\n",
    "overallSystemDict['beamDict'] = beamDict\n",
    "overallSystemDict['tubeDict'] = tubeDict\n",
    "overallSystemDict['materialDict'] = materialDict\n",
    "overallSystemDict['geometryDict'] = geometryDict\n",
    "print overallSystemDict\n"
   ]
  },
  {
   "cell_type": "code",
   "execution_count": 37,
   "metadata": {},
   "outputs": [],
   "source": [
    "# Define Analytical Equations\n",
    "def defineAnalyticalEquations_Lower(overallSystemDict):\n",
    "    # Equation 1\n",
    "    L = overallSystemDict['geometryDict']['beamLength']\n",
    "    w = overallSystemDict['geometryDict']['beamWidth']\n",
    "    t = overallSystemDict['geometryDict']['beamThick']\n",
    "    h = overallSystemDict['geometryDict']['beamHeight']\n",
    "    density = overallSystemDict['materialDict']['density']\n",
    "    # User Enters Formula\n",
    "    beamMass = density * L * (2 * (w + 2 * t)*t + 2 * h * t)\n",
    "    \n",
    "    # Equation 2\n",
    "    tubeMass = overallSystemDict['tubeDict']['tubeMass']\n",
    "    beamDistToCL = overallSystemDict['sourceDict']['beamDistToCL']\n",
    "    gravity = overallSystemDict['tubeDict']['gravity']\n",
    "    omega =  overallSystemDict['sourceDict']['omega']\n",
    "    # User Enters Formula\n",
    "    force = tubeMass * (beamDistToCL * omega * omega + gravity)\n",
    "    \n",
    "\n",
    "    # Pushed back into the Dict\n",
    "    overallSystemDict['beamDict']['beamMass'] = beamMass\n",
    "    overallSystemDict['sourceDict']['force'] = force\n",
    "    \n",
    "    return overallSystemDict"
   ]
  },
  {
   "cell_type": "code",
   "execution_count": 38,
   "metadata": {},
   "outputs": [],
   "source": [
    "# Define Response Surface Equations\n",
    "def defineResponseSurface(overallSystemDict):\n",
    "    L = overallSystemDict['geometryDict']['beamLength']\n",
    "    w = overallSystemDict['geometryDict']['beamWidth']\n",
    "    t = overallSystemDict['geometryDict']['beamThick']\n",
    "    h = overallSystemDict['geometryDict']['beamHeight']\n",
    "    E = overallSystemDict['materialDict']['elasticModulus']\n",
    "    F = overallSystemDict['sourceDict']['force']\n",
    "    \n",
    "    # beamDeflection\n",
    "    loc_I = (w * h * h * h/12)\n",
    "    beamDeflection = (1.0/(E * loc_I)) * F * L * L * L\n",
    "    \n",
    "    # beamFrequency\n",
    "    beamFrequency = E * w * h * h * h/12\n",
    "    \n",
    "    # beamStress\n",
    "    beamStress = F/(w * t)\n",
    "    \n",
    "    \n",
    "    beamDict['beamDeflection'] = beamDeflection\n",
    "    beamDict['beamFrequency'] = beamFrequency\n",
    "    beamDict['beamStress'] = beamStress\n",
    "    return overallSystemDict"
   ]
  },
  {
   "cell_type": "code",
   "execution_count": 39,
   "metadata": {},
   "outputs": [],
   "source": [
    "# Define Analytical Equations\n",
    "# Has some dependency on the Response Surface Equations.. So split it into two parts (Lower and Upper)\n",
    "def defineAnalyticalEquations_Upper(overallSystemDict):\n",
    "    # Equation 3\n",
    "    tubePos = overallSystemDict['tubeDict']['tubePos']\n",
    "    beamDeflection = overallSystemDict['beamDict']['beamDeflection']\n",
    "    # User Enters Formula\n",
    "    sourcePos = tubePos - beamDeflection\n",
    "    \n",
    "    # Equation 4\n",
    "    detectorPos = overallSystemDict['detectorDict']['pos']\n",
    "    # User Enters Formula\n",
    "    fsAlign = detectorPos - sourcePos\n",
    "    \n",
    "    # Pushed back into the Dict\n",
    "    overallSystemDict['sourceDict']['pos'] = sourcePos\n",
    "    overallSystemDict['sourceDict']['fsAlign'] = fsAlign\n",
    "    return overallSystemDict\n",
    "    "
   ]
  },
  {
   "cell_type": "code",
   "execution_count": 42,
   "metadata": {},
   "outputs": [
    {
     "name": "stdout",
     "output_type": "stream",
     "text": [
      "{'detectorDict': {'pos': -0.5+/-0.0333}, 'materialDict': {'elasticModulus': 200.0+/-6.67, 'density': 8.8e-06+/-0}, 'sourceDict': {'force': 8519577.3+/-57344.77197592552, 'beamDistToCL': 600.0+/-0.0667, 'omega': 12.56+/-0.041867, 'pos': -1277936.5950000004+/-45004.74792481405, 'fsAlign': 1277936.0950000004+/-45004.74792482637}, 'geometryDict': {'beamHeight': 100.0+/-0.25, 'beamWidth': 50.0+/-0.25, 'beamThick': 4.5+/-0.1, 'beamLength': 500.0+/-0.2}, 'tubeDict': {'gravity': 9.81+/-0, 'tubeMass': 90.0+/-0.08333, 'tubePos': 0.0+/-0}, 'xRayDict': {'fsAlign': 0.0+/-0}, 'beamDict': {'beamFrequency': 833333333.3333334+/-28788892.775204506, 'beamMass': 6.2964+/-0.14852282230173783, 'beamDeflection': 1277936.5950000004+/-45004.74792481405, 'beamStress': 37864.788+/-899.3446949216311}}\n"
     ]
    }
   ],
   "source": [
    "overallSystemDict = defineAnalyticalEquations_Lower(overallSystemDict)\n",
    "overallSystemDict = defineResponseSurface(overallSystemDict)\n",
    "overallSystemDict = defineAnalyticalEquations_Upper(overallSystemDict)\n",
    "print overallSystemDict"
   ]
  },
  {
   "cell_type": "code",
   "execution_count": 33,
   "metadata": {},
   "outputs": [
    {
     "name": "stdout",
     "output_type": "stream",
     "text": [
      "None\n"
     ]
    }
   ],
   "source": []
  },
  {
   "cell_type": "code",
   "execution_count": null,
   "metadata": {},
   "outputs": [],
   "source": []
  }
 ],
 "metadata": {
  "kernelspec": {
   "display_name": "Python 2",
   "language": "python",
   "name": "python2"
  },
  "language_info": {
   "codemirror_mode": {
    "name": "ipython",
    "version": 2
   },
   "file_extension": ".py",
   "mimetype": "text/x-python",
   "name": "python",
   "nbconvert_exporter": "python",
   "pygments_lexer": "ipython2",
   "version": "2.7.14"
  }
 },
 "nbformat": 4,
 "nbformat_minor": 2
}
