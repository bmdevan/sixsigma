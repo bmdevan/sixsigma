{
 "cells": [
  {
   "cell_type": "code",
   "execution_count": 2,
   "metadata": {},
   "outputs": [],
   "source": [
    "# Import the Modules into the Notebook\n",
    "from uncertainties import ufloat\n",
    "from uncertainties import wrap\n",
    "from uncertainties.umath import * \n",
    "import numpy as np"
   ]
  },
  {
   "cell_type": "code",
   "execution_count": 3,
   "metadata": {},
   "outputs": [
    {
     "name": "stdout",
     "output_type": "stream",
     "text": [
      "{'beamHeight': 100.0+/-0.25, 'beamWidth': 50.0+/-0.25, 'beamThick': 4.5+/-0.1, 'beamLength': 500.0+/-0.2}\n",
      "{'elasticModulus': 200.0+/-6.67, 'density': 8.8e-06+/-0}\n",
      "{'gravity': 9.81+/-0, 'tubeMass': 90.0+/-0.08333, 'tubePos': 0.0+/-0}\n",
      "{'beamFrequency': 0.0+/-0, 'beamMass': 0.0+/-0, 'beamDeflection': 0.0+/-0, 'beamStress': 0.0+/-0}\n",
      "{'force': 0.0+/-0, 'beamDistToCL': 600.0+/-0.0667, 'omega': 12.56+/-0.041867, 'pos': 0.0+/-0}\n",
      "{'pos': -0.5+/-0.0333}\n",
      "{'fsAlign': 0.0+/-0}\n"
     ]
    }
   ],
   "source": [
    "# Setup the Structure\n",
    "\n",
    "# Geometry\n",
    "geometryDict = {}\n",
    "geometryDict['beamHeight'] = ufloat(100, 0.25)\n",
    "geometryDict['beamLength'] = ufloat(500, 0.2)\n",
    "geometryDict['beamThick'] = ufloat(4.5, 0.1)\n",
    "geometryDict['beamWidth'] = ufloat(50, 0.25)\n",
    "print geometryDict\n",
    "\n",
    "materialDict = {}\n",
    "materialDict['elasticModulus'] = ufloat(200, 6.67)\n",
    "materialDict['density'] = ufloat(8.8E-6, 0)\n",
    "print materialDict\n",
    "\n",
    "tubeDict = {}\n",
    "tubeDict['tubePos'] = ufloat(0, 0)\n",
    "tubeDict['tubeMass'] = ufloat(90, 0.08333)\n",
    "tubeDict['gravity'] = ufloat(9.81, 0)\n",
    "print tubeDict\n",
    "\n",
    "beamDict = {}\n",
    "beamDict['beamDeflection'] = ufloat(0, 0)\n",
    "beamDict['beamFrequency'] = ufloat(0, 0)\n",
    "beamDict['beamStress'] = ufloat(0, 0)\n",
    "beamDict['beamMass'] = ufloat(0, 0)\n",
    "print beamDict\n",
    "\n",
    "sourceDict = {}\n",
    "sourceDict['pos'] = ufloat(0, 0)\n",
    "sourceDict['beamDistToCL'] = ufloat(600, 0.0667)\n",
    "sourceDict['omega'] = ufloat(12.56, 0.041867)\n",
    "sourceDict['force'] = ufloat(0, 0)\n",
    "print sourceDict\n",
    "\n",
    "detectorDict = {}\n",
    "detectorDict['pos'] = ufloat(-0.5, 0.0333)\n",
    "print detectorDict\n",
    "\n",
    "xRayDict = {}\n",
    "xRayDict['fsAlign'] = ufloat(0, 0)\n",
    "print xRayDict"
   ]
  },
  {
   "cell_type": "code",
   "execution_count": 4,
   "metadata": {},
   "outputs": [
    {
     "name": "stdout",
     "output_type": "stream",
     "text": [
      "{'detectorDict': {'pos': -0.5+/-0.0333}, 'materialDict': {'elasticModulus': 200.0+/-6.67, 'density': 8.8e-06+/-0}, 'sourceDict': {'force': 0.0+/-0, 'beamDistToCL': 600.0+/-0.0667, 'omega': 12.56+/-0.041867, 'pos': 0.0+/-0}, 'geometryDict': {'beamHeight': 100.0+/-0.25, 'beamWidth': 50.0+/-0.25, 'beamThick': 4.5+/-0.1, 'beamLength': 500.0+/-0.2}, 'tubeDict': {'gravity': 9.81+/-0, 'tubeMass': 90.0+/-0.08333, 'tubePos': 0.0+/-0}, 'xRayDict': {'fsAlign': 0.0+/-0}, 'beamDict': {'beamFrequency': 0.0+/-0, 'beamMass': 0.0+/-0, 'beamDeflection': 0.0+/-0, 'beamStress': 0.0+/-0}}\n"
     ]
    }
   ],
   "source": [
    "# To permit calling and transferring information across all subsystems\n",
    "# Package it into an overall dict so that the\n",
    "# Analytical and Response Surface can be programmed inside the functional blocks\n",
    "overallSystemDict = {}\n",
    "overallSystemDict['xRayDict'] = xRayDict\n",
    "overallSystemDict['detectorDict'] = detectorDict\n",
    "overallSystemDict['sourceDict'] = sourceDict\n",
    "overallSystemDict['beamDict'] = beamDict\n",
    "overallSystemDict['tubeDict'] = tubeDict\n",
    "overallSystemDict['materialDict'] = materialDict\n",
    "overallSystemDict['geometryDict'] = geometryDict\n",
    "print overallSystemDict\n"
   ]
  },
  {
   "cell_type": "code",
   "execution_count": 5,
   "metadata": {},
   "outputs": [],
   "source": [
    "# Define Analytical Equations\n",
    "def defineAnalyticalEquations_Lower(overallSystemDict):\n",
    "    # Equation 1\n",
    "    L = overallSystemDict['geometryDict']['beamLength']\n",
    "    w = overallSystemDict['geometryDict']['beamWidth']\n",
    "    t = overallSystemDict['geometryDict']['beamThick']\n",
    "    h = overallSystemDict['geometryDict']['beamHeight']\n",
    "    density = overallSystemDict['materialDict']['density']\n",
    "    # User Enters Formula\n",
    "    beamMass = density * L * (2 * (w + 2 * t)*t + 2 * h * t)\n",
    "    \n",
    "    # Equation 2\n",
    "    tubeMass = overallSystemDict['tubeDict']['tubeMass']\n",
    "    beamDistToCL = overallSystemDict['sourceDict']['beamDistToCL']\n",
    "    gravity = overallSystemDict['tubeDict']['gravity']\n",
    "    omega =  overallSystemDict['sourceDict']['omega']\n",
    "    # User Enters Formula\n",
    "    force = tubeMass * (beamDistToCL * omega * omega + gravity)\n",
    "    \n",
    "\n",
    "    # Pushed back into the Dict\n",
    "    overallSystemDict['beamDict']['beamMass'] = beamMass\n",
    "    overallSystemDict['sourceDict']['force'] = force\n",
    "    \n",
    "    return overallSystemDict"
   ]
  },
  {
   "cell_type": "code",
   "execution_count": 6,
   "metadata": {},
   "outputs": [],
   "source": [
    "# 'h', 'w', 't', 'L', 'E', 'F', \n",
    "# 'h^2', 'h w', 'h t', 'h L', 'h E', 'h F', \n",
    "# 'w^2', 'w t', 'w L', 'w E', 'w F', \n",
    "# 't^2', 't L', 't E', 't F', \n",
    "# 'L^2', 'L E', 'L F', \n",
    "# 'E^2', 'E F', \n",
    "# 'F^2'\n",
    "def calculateResponseValue(h, w, t, L, E, F, coef, intercept):\n",
    "    term1 = h*coef[0] + w*coef[1] + t*coef[2] + L*coef[3] + E*coef[4] + F*coef[5]\n",
    "    term2 = h * (h*coef[6] + w*coef[7] + t*coef[8] + L*coef[9] + E*coef[10] + F*coef[11])\n",
    "    term3 = w * (w*coef[12] + t*coef[13] + L*coef[14] + E*coef[15] + F*coef[16])\n",
    "\n",
    "    term4 = t * (t*coef[17] + L*coef[18] + E*coef[19] + F*coef[20])\n",
    "    term5 = L * (L*coef[21] + E*coef[22] + F*coef[23])\n",
    "    term6 = E * (E*coef[24] + F*coef[25])\n",
    "    term7 = F * F * coef[26]\n",
    "    return intercept + term1 + term2 + term3 + term4 + term5 + term6 + term7\n",
    "    "
   ]
  },
  {
   "cell_type": "code",
   "execution_count": 7,
   "metadata": {},
   "outputs": [],
   "source": [
    "def calculateCodedValues(h, w, t, L, E, F):\n",
    "    # 6 Variables: h, w, t, L, E, F\n",
    "    lb = np.array([80, 40, 2, 400, 180E9, 9000])\n",
    "    ub = np.array([120, 60, 7, 600, 220E9, 11000])\n",
    "    avg = 0.5 * (lb + ub)\n",
    "\n",
    "    loc_array = np.array([h, w, t, L, E, F])\n",
    "    loc_array_coded = (loc_array - avg) / (lb - ub) * 2.0\n",
    "    print loc_array, loc_array_coded\n",
    "    return list(loc_array_coded)\n",
    "    \n",
    "# Define Response Surface Equations\n",
    "def defineResponseSurface(overallSystemDict, freq_rs, deflection_rs, stress_rs):\n",
    "    L = overallSystemDict['geometryDict']['beamLength']\n",
    "    w = overallSystemDict['geometryDict']['beamWidth']\n",
    "    t = overallSystemDict['geometryDict']['beamThick']\n",
    "    h = overallSystemDict['geometryDict']['beamHeight']\n",
    "    E = overallSystemDict['materialDict']['elasticModulus']\n",
    "    F = overallSystemDict['sourceDict']['force']\n",
    "    \n",
    "    h_c, w_c, t_c, L_c, E_c, F_c = calculateCodedValues(h, w, t, L, E, F)\n",
    "    \n",
    "    \n",
    "    #x_vars = np.array([h, w, t, L, E, F])\n",
    "    #x_vars_n = np.array([h.n, w.n, t.n, L.n, E.n, F.n])\n",
    "    #x_vars_2d = x_vars.reshape(-1,1).transpose()\n",
    "    #print x_vars_2d.shape\n",
    "    # beamDeflection\n",
    "    beamDeflection = calculateResponseValue(h, w, t, L, E, F, deflection_rs.steps[1][1].coef_[0,1:], deflection_rs.steps[1][1].intercept_[0])\n",
    "    #beamDeflection = wrap(deflection_rs.predict)(x_vars_2d)\n",
    "    #loc_I = (w * h * h * h/12)\n",
    "    #beamDeflection = (1.0/(E * loc_I)) * F * L * L * L\n",
    "    \n",
    "    # beamFrequency\n",
    "    beamFrequency = calculateResponseValue(h, w, t, L, E, F, freq_rs.steps[1][1].coef_[0,1:], freq_rs.steps[1][1].intercept_[0])\n",
    "    #beamFrequency = wrap(freq_rs.predict)(x_vars_2d)\n",
    "    #beamFrequency = E * w * h * h * h/12\n",
    "    \n",
    "    # beamStress\n",
    "    beamStress = calculateResponseValue(h, w, t, L, E, F, stress_rs.steps[1][1].coef_[0,1:], stress_rs.steps[1][1].intercept_[0])\n",
    "    #beamStress = wrap(stress_rs.predict)(x_vars_2d)\n",
    "    #beamStress = F/(w * t)\n",
    "    \n",
    "    \n",
    "    beamDict['beamDeflection'] = beamDeflection\n",
    "    beamDict['beamFrequency'] = beamFrequency\n",
    "    beamDict['beamStress'] = beamStress\n",
    "    return overallSystemDict"
   ]
  },
  {
   "cell_type": "code",
   "execution_count": 8,
   "metadata": {},
   "outputs": [],
   "source": [
    "# Define Analytical Equations\n",
    "# Has some dependency on the Response Surface Equations.. So split it into two parts (Lower and Upper)\n",
    "def defineAnalyticalEquations_Upper(overallSystemDict):\n",
    "    # Equation 3\n",
    "    tubePos = overallSystemDict['tubeDict']['tubePos']\n",
    "    beamDeflection = overallSystemDict['beamDict']['beamDeflection']\n",
    "    # User Enters Formula\n",
    "    sourcePos = tubePos - beamDeflection\n",
    "    \n",
    "    # Equation 4\n",
    "    detectorPos = overallSystemDict['detectorDict']['pos']\n",
    "    # User Enters Formula\n",
    "    fsAlign = detectorPos - sourcePos\n",
    "    \n",
    "    # Pushed back into the Dict\n",
    "    overallSystemDict['sourceDict']['pos'] = sourcePos\n",
    "    overallSystemDict['fsAlign'] = fsAlign\n",
    "    return overallSystemDict\n",
    "    "
   ]
  },
  {
   "cell_type": "code",
   "execution_count": 9,
   "metadata": {},
   "outputs": [
    {
     "name": "stdout",
     "output_type": "stream",
     "text": [
      "(1, 28)\n",
      "[27.50748961]\n",
      "[100.0+/-0.25 50.0+/-0.25 4.5+/-0.1 500.0+/-0.2 200.0+/-6.67\n",
      " 8519577.3+/-57344.77197592552] [-0.0+/-0.0125 -0.0+/-0.025 -0.0+/-0.04000000000000001 -0.0+/-0.002\n",
      " 9.99999999+/-3.335e-10 -8509.5773+/-57.34477197592552]\n",
      "{'detectorDict': {'pos': -0.5+/-0.0333}, 'materialDict': {'elasticModulus': 200.0+/-6.67, 'density': 8.8e-06+/-0}, 'sourceDict': {'force': 8519577.3+/-57344.77197592552, 'beamDistToCL': 600.0+/-0.0667, 'omega': 12.56+/-0.041867, 'pos': -1.9522639216379871+/-0.004601431400811745}, 'geometryDict': {'beamHeight': 100.0+/-0.25, 'beamWidth': 50.0+/-0.25, 'beamThick': 4.5+/-0.1, 'beamLength': 500.0+/-0.2}, 'tubeDict': {'gravity': 9.81+/-0, 'tubeMass': 90.0+/-0.08333, 'tubePos': 0.0+/-0}, 'fsAlign': 1.4522639216379871+/-0.03361641222582173, 'xRayDict': {'fsAlign': 0.0+/-0}, 'beamDict': {'beamFrequency': 24.380968667980476+/-0.04208879086717574, 'beamMass': 6.2964+/-0.14852282230173783, 'beamDeflection': 1.9522639216379871+/-0.004601431400811745, 'beamStress': -178.73588724133106+/-1.692679498338582}}\n"
     ]
    }
   ],
   "source": [
    "# Test out a simple calculation\n",
    "from sklearn.externals import joblib\n",
    "\n",
    "# Load the response surfaces\n",
    "# https://stackoverflow.com/questions/34373606/scikit-learn-coefficients-polynomialfeatures\n",
    "freq_rs = joblib.load('freq_rs.pkl')\n",
    "print freq_rs.steps[1][1].coef_.shape\n",
    "print freq_rs.steps[1][1].intercept_\n",
    "\n",
    "deflection_rs = joblib.load('deflection_rs.pkl')\n",
    "stress_rs = joblib.load('stress_rs.pkl')\n",
    "\n",
    "overallSystemDict = defineAnalyticalEquations_Lower(overallSystemDict)\n",
    "overallSystemDict = defineResponseSurface(overallSystemDict, freq_rs, deflection_rs, stress_rs)\n",
    "overallSystemDict = defineAnalyticalEquations_Upper(overallSystemDict)\n",
    "print overallSystemDict"
   ]
  },
  {
   "cell_type": "code",
   "execution_count": 24,
   "metadata": {},
   "outputs": [],
   "source": [
    "import scipy.stats as st\n",
    "\n",
    "# Define DPMO and perform the optimization on variables\n",
    "# Calculate the dpmo given the ufloat object and the lsl & usl\n",
    "def dpo_lsl_usl(in_ufloat, lsl, usl):\n",
    "    loc_mean = in_ufloat.nominal_value\n",
    "    loc_std = in_ufloat.std_dev\n",
    "    ret_dpo = 0.0\n",
    "\n",
    "    if(~np.isnan(lsl)):\n",
    "        z_lsl = (lsl - loc_mean) * 1.0/loc_std\n",
    "        loc_lslcdf = st.norm.cdf(z_lsl)\n",
    "        ret_dpo += loc_lslcdf\n",
    "    \n",
    "    if(~np.isnan(usl)):\n",
    "        z_usl = (usl - loc_mean) * 1.0/loc_std\n",
    "        loc_uslcdf = st.norm.cdf(z_usl)\n",
    "        ret_dpo += 1.0 - loc_uslcdf\n",
    "\n",
    "    return ret_dpo"
   ]
  },
  {
   "cell_type": "code",
   "execution_count": 35,
   "metadata": {},
   "outputs": [
    {
     "name": "stdout",
     "output_type": "stream",
     "text": [
      "Optimization terminated successfully.\n",
      "         Current function value: 0.750000\n",
      "         Iterations: 0\n",
      "         Function evaluations: 6\n",
      "         Gradient evaluations: 1\n",
      "[100.   50.    4.5 500. ]\n"
     ]
    }
   ],
   "source": [
    "import scipy.optimize as optimize\n",
    "\n",
    "# params: h, w, L, t\n",
    "def f(params, overallSystemDict=overallSystemDict):\n",
    "    # print(params)  # <-- you'll see that params is a NumPy array\n",
    "    h_nom, w_nom, t_nom, L_nom = params # <-- for readability you may wish to assign names to the component variables\n",
    "    # Set the values into the Overall System Dict\n",
    "    L_std = (overallSystemDict['geometryDict']['beamLength']).std_dev\n",
    "    w_std = (overallSystemDict['geometryDict']['beamWidth']).std_dev\n",
    "    t_std = (overallSystemDict['geometryDict']['beamThick']).std_dev\n",
    "    h_std = (overallSystemDict['geometryDict']['beamHeight']).std_dev\n",
    "    \n",
    "    overallSystemDict['geometryDict']['beamLength'] = ufloat(L_nom, L_std) \n",
    "    overallSystemDict['geometryDict']['beamWidth'] = ufloat(w_nom, w_std)\n",
    "    overallSystemDict['geometryDict']['beamThick'] = ufloat(t_nom, t_std)\n",
    "    overallSystemDict['geometryDict']['beamHeight'] = ufloat(h_nom, h_std)\n",
    "    \n",
    "    \n",
    "    overallSystemDict = defineAnalyticalEquations_Lower(overallSystemDict)\n",
    "    overallSystemDict = defineResponseSurface(overallSystemDict, freq_rs, deflection_rs, stress_rs)\n",
    "    overallSystemDict = defineAnalyticalEquations_Upper(overallSystemDict)\n",
    "\n",
    "    # Calculate the DPO of each variable\n",
    "    beamFrequency = overallSystemDict['beamDict']['beamFrequency']\n",
    "    beamStress = overallSystemDict['beamDict']['beamStress']\n",
    "    beamMass = overallSystemDict['beamDict']['beamMass']\n",
    "    fsAlign = overallSystemDict['fsAlign']\n",
    "    \n",
    "    dpo_beamFrequency = dpo_lsl_usl(beamFrequency, np.nan, 55.0)\n",
    "    bounds_beamFrequency = (np.nan, 55)\n",
    "    dpo_beamStress = dpo_lsl_usl(beamStress, np.nan, 20)\n",
    "    bounds_beamStress = (np.nan, 20)\n",
    "    dpo_beamMass = dpo_lsl_usl(beamMass, np.nan, np.nan)\n",
    "    bounds_beamMass = (np.nan, 8)\n",
    "    dpo_fsAlign = dpo_lsl_usl(fsAlign, np.nan, 0.015)\n",
    "    bounds_fsAlign = (0.4, 0.6)\n",
    "    dpo_avg = 0.25 * (dpo_beamFrequency + dpo_beamStress + dpo_beamMass + dpo_fsAlign)\n",
    "\n",
    "    \n",
    "    \n",
    "    return dpo_avg\n",
    "\n",
    "h_Nom_init = (overallSystemDict['geometryDict']['beamHeight']).nominal_value\n",
    "w_Nom_init = (overallSystemDict['geometryDict']['beamWidth']).nominal_value\n",
    "t_Nom_init = (overallSystemDict['geometryDict']['beamThick']).nominal_value\n",
    "L_Nom_init = (overallSystemDict['geometryDict']['beamLength']).nominal_value\n",
    "\n",
    "initial_guess = [h_Nom_init, w_Nom_init, t_Nom_init, L_Nom_init]\n",
    "result = optimize.minimize(f, initial_guess, method='BFGS', options={'gtol': 1e-6, 'disp': True})\n",
    "if result.success:\n",
    "    fitted_params = result.x\n",
    "    print(fitted_params)\n",
    "else:\n",
    "    raise ValueError(result.message)"
   ]
  },
  {
   "cell_type": "code",
   "execution_count": 36,
   "metadata": {},
   "outputs": [
    {
     "name": "stdout",
     "output_type": "stream",
     "text": [
      "2.00+/-0.10\n"
     ]
    },
    {
     "ename": "AttributeError",
     "evalue": "'int' object has no attribute 'std_dev'",
     "output_type": "error",
     "traceback": [
      "\u001b[0;31m---------------------------------------------------------------------------\u001b[0m",
      "\u001b[0;31mAttributeError\u001b[0m                            Traceback (most recent call last)",
      "\u001b[0;32m<ipython-input-36-035fada36837>\u001b[0m in \u001b[0;36m<module>\u001b[0;34m()\u001b[0m\n\u001b[1;32m      2\u001b[0m \u001b[0;32mprint\u001b[0m \u001b[0ma\u001b[0m\u001b[0;34m\u001b[0m\u001b[0m\n\u001b[1;32m      3\u001b[0m \u001b[0ma\u001b[0m \u001b[0;34m=\u001b[0m \u001b[0;36m3\u001b[0m\u001b[0;34m\u001b[0m\u001b[0m\n\u001b[0;32m----> 4\u001b[0;31m \u001b[0ma\u001b[0m\u001b[0;34m.\u001b[0m\u001b[0mstd_dev\u001b[0m \u001b[0;34m=\u001b[0m \u001b[0;36m1\u001b[0m\u001b[0;34m\u001b[0m\u001b[0m\n\u001b[0m\u001b[1;32m      5\u001b[0m \u001b[0;32mprint\u001b[0m \u001b[0ma\u001b[0m\u001b[0;34m\u001b[0m\u001b[0m\n",
      "\u001b[0;31mAttributeError\u001b[0m: 'int' object has no attribute 'std_dev'"
     ]
    }
   ],
   "source": [
    "a = ufloat(2, 0.1)\n",
    "print a\n",
    "a = 3\n",
    "a.std_dev = 1\n",
    "print a"
   ]
  },
  {
   "cell_type": "code",
   "execution_count": null,
   "metadata": {},
   "outputs": [],
   "source": []
  }
 ],
 "metadata": {
  "kernelspec": {
   "display_name": "Python 2",
   "language": "python",
   "name": "python2"
  },
  "language_info": {
   "codemirror_mode": {
    "name": "ipython",
    "version": 2
   },
   "file_extension": ".py",
   "mimetype": "text/x-python",
   "name": "python",
   "nbconvert_exporter": "python",
   "pygments_lexer": "ipython2",
   "version": "2.7.14"
  }
 },
 "nbformat": 4,
 "nbformat_minor": 2
}
