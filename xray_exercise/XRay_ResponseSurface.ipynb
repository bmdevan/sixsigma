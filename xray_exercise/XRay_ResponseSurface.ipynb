{
 "cells": [
  {
   "cell_type": "code",
   "execution_count": null,
   "metadata": {
    "collapsed": true
   },
   "outputs": [],
   "source": [
    "# Perform the DOE and generate the equations to be used\n"
   ]
  },
  {
   "cell_type": "code",
   "execution_count": 13,
   "metadata": {
    "collapsed": true
   },
   "outputs": [],
   "source": [
    "import pandas as pd\n",
    "import numpy as np\n",
    "import math"
   ]
  },
  {
   "cell_type": "code",
   "execution_count": 18,
   "metadata": {
    "collapsed": true
   },
   "outputs": [],
   "source": [
    "# Calculates the response values for\n",
    "# h, w, t, L, E\n",
    "# Units: mm, mm, mm, mm, Pa, N\n",
    "def generateResponseValues(h, w, t, L, E, F):\n",
    "    # Fixed Values needed for calculation\n",
    "    mt = 90.0 # Mass of Tube\n",
    "    rr = 600 #mm, Distance to center line\n",
    "    omega = 2 # rev/s, Rotational Speed\n",
    "    g = 9.81 # m/s^2\n",
    "    rho = 8.8E3 # kg/m^3\n",
    "    \n",
    "    # Calculations\n",
    "    #Area Moment of Inertia\n",
    "    wf = w+ 2*t# Flange Width\n",
    "    I = wf * (math.pow(t, 3)/6.0 + t*math.pow(h+t, 2)/2.0) + t * math.pow(h, 3)/6\n",
    "    # Tip Load\n",
    "    #Fstatic = mt * g\n",
    "    #Fdynamic = mt * (rr/1000) * math.pow(2 * math.pi * omega, 2)\n",
    "    #Fcalc = Fstatic + Fdynamic # Fmax\n",
    "    # Deflection\n",
    "    U = 1E6 * F * math.pow(L, 3)/(3 * E * I)\n",
    "    # Stress\n",
    "    M = F * L # Moment\n",
    "    S = M * (h/2 + t)/I # Stress\n",
    "    # Beam Mass\n",
    "    mb = 2E-9 * rho * L * t * (w + 2*t + h)\n",
    "    # Frequency\n",
    "    mbar = mt + 0.23 * mb\n",
    "    a = 0.003*E*I/(mbar*math.pow(L, 3))\n",
    "    freq = math.sqrt(a)/(2 * math.pi)    \n",
    "    return U, S, freq\n"
   ]
  },
  {
   "cell_type": "code",
   "execution_count": 2,
   "metadata": {},
   "outputs": [],
   "source": [
    "from pyDOE import *\n"
   ]
  },
  {
   "cell_type": "code",
   "execution_count": 49,
   "metadata": {},
   "outputs": [
    {
     "name": "stdout",
     "output_type": "stream",
     "text": [
      "DOE Runs: 200\n"
     ]
    }
   ],
   "source": [
    "#ccDesign_6Var = ccdesign(6, alpha='o', face='ccf')\n",
    "ccDesign_6Var = lhs(6, samples=200, criterion='m')\n",
    "print 'DOE Runs: %d'%(len(ccDesign_6Var))\n",
    "#print ccDesign_6Var"
   ]
  },
  {
   "cell_type": "code",
   "execution_count": 50,
   "metadata": {},
   "outputs": [],
   "source": [
    "# 6 Variables: h, w, t, L, E, F\n",
    "lb = np.array([80, 40, 2, 400, 180E9, 9000])\n",
    "ub = np.array([120, 60, 7, 600, 220E9, 11000])\n",
    "avg = 0.5 * (lb + ub)\n",
    "\n",
    "nDOE = len(ccDesign_6Var)\n",
    "\n",
    "# Values in physical space\n",
    "ccDesign_6Var_PhysicalSpace = np.ones([nDOE, 1]) * avg + np.multiply(np.ones([nDOE, 1]) * (ub - lb) * 0.5, ccDesign_6Var)\n",
    "h_PS = ccDesign_6Var_PhysicalSpace[:,0]\n",
    "w_PS = ccDesign_6Var_PhysicalSpace[:,1]\n",
    "t_PS = ccDesign_6Var_PhysicalSpace[:,2]\n",
    "L_PS = ccDesign_6Var_PhysicalSpace[:,3]\n",
    "E_PS = ccDesign_6Var_PhysicalSpace[:,4]\n",
    "F_PS = ccDesign_6Var_PhysicalSpace[:,5]\n",
    "\n",
    "deflection_PS = np.zeros([nDOE, 1])\n",
    "stress_PS = np.zeros([nDOE, 1])\n",
    "freq_PS = np.zeros([nDOE, 1])\n",
    "\n",
    "#print ccDesign_6Var_PhysicalSpace\n",
    "for iDOE in np.arange(nDOE):\n",
    "    deflection_PS[iDOE,:], stress_PS[iDOE, :], freq_PS[iDOE, :] = generateResponseValues(h_PS[iDOE], w_PS[iDOE], t_PS[iDOE], L_PS[iDOE], E_PS[iDOE], F_PS[iDOE])\n",
    "#iDOE = 1\n",
    "#print ccDesign_6Var_PhysicalSpace[iDOE,:]\n",
    "#a, b, c = generateResponseValues(ccDesign_6Var_PhysicalSpace[iDOE,0], ccDesign_6Var_PhysicalSpace[iDOE,1], ccDesign_6Var_PhysicalSpace[iDOE,2], ccDesign_6Var_PhysicalSpace[iDOE,3], ccDesign_6Var_PhysicalSpace[iDOE,4], ccDesign_6Var_PhysicalSpace[iDOE,5])\n",
    "#print a, b, c\n"
   ]
  },
  {
   "cell_type": "code",
   "execution_count": 51,
   "metadata": {},
   "outputs": [],
   "source": [
    "# Fit the Response Surface on this\n",
    "# http://scikit-learn.org/0.17/auto_examples/model_selection/plot_underfitting_overfitting.html\n",
    "import numpy as np\n",
    "import matplotlib.pyplot as plt\n",
    "from sklearn.pipeline import Pipeline\n",
    "from sklearn.preprocessing import PolynomialFeatures\n",
    "from sklearn.linear_model import LinearRegression\n",
    "from sklearn import cross_validation"
   ]
  },
  {
   "cell_type": "code",
   "execution_count": 52,
   "metadata": {},
   "outputs": [
    {
     "name": "stdout",
     "output_type": "stream",
     "text": [
      "['1', 'h', 'w', 't', 'L', 'E', 'F', 'h^2', 'h w', 'h t', 'h L', 'h E', 'h F', 'w^2', 'w t', 'w L', 'w E', 'w F', 't^2', 't L', 't E', 't F', 'L^2', 'L E', 'L F', 'E^2', 'E F', 'F^2']\n",
      "[-0.3429767  -0.32941599 -0.46687081 -0.68039152 -0.46554866 -0.50946248\n",
      " -0.32012006 -0.64140965 -0.4012813  -0.84835925]\n",
      "[-0.00161568 -0.0010771  -0.0017065  -0.00202625 -0.00130462 -0.00049856\n",
      " -0.00077868 -0.00096058 -0.00074602 -0.00135376]\n",
      "[-3.18232465 -3.72576111 -5.57648678 -7.65550949 -3.22141352 -1.68440346\n",
      " -2.5399686  -3.24667493 -4.20076022 -5.69932215]\n"
     ]
    }
   ],
   "source": [
    "polynomial_features = PolynomialFeatures(degree=2, include_bias=True)\n",
    "linear_regression = LinearRegression()\n",
    "pipeline = Pipeline([(\"polynomial_features\", polynomial_features),(\"linear_regression\", linear_regression)])\n",
    "pipeline.fit(ccDesign_6Var_PhysicalSpace, freq_PS)\n",
    "print polynomial_features.get_feature_names(['h', 'w', 't', 'L', 'E', 'F'])\n",
    "\n",
    "# Evaluate the models using crossvalidation\n",
    "scores = cross_validation.cross_val_score(pipeline, ccDesign_6Var_PhysicalSpace, freq_PS, scoring=\"neg_mean_squared_error\", cv=10)\n",
    "print scores\n",
    "\n",
    "pipeline.fit(ccDesign_6Var_PhysicalSpace, deflection_PS)\n",
    "# Evaluate the models using crossvalidation\n",
    "scores = cross_validation.cross_val_score(pipeline, ccDesign_6Var_PhysicalSpace, deflection_PS, scoring=\"neg_mean_squared_error\", cv=10)\n",
    "print scores\n",
    "\n",
    "pipeline.fit(ccDesign_6Var_PhysicalSpace, stress_PS)\n",
    "# Evaluate the models using crossvalidation\n",
    "scores = cross_validation.cross_val_score(pipeline, ccDesign_6Var_PhysicalSpace, stress_PS, scoring=\"neg_mean_squared_error\", cv=10)\n",
    "print scores\n"
   ]
  }
 ],
 "metadata": {
  "kernelspec": {
   "display_name": "Python 2",
   "language": "python",
   "name": "python2"
  },
  "language_info": {
   "codemirror_mode": {
    "name": "ipython",
    "version": 2
   },
   "file_extension": ".py",
   "mimetype": "text/x-python",
   "name": "python",
   "nbconvert_exporter": "python",
   "pygments_lexer": "ipython2",
   "version": "2.7.14"
  }
 },
 "nbformat": 4,
 "nbformat_minor": 2
}
