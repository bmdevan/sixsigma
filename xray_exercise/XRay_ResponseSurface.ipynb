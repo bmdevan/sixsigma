{
 "cells": [
  {
   "cell_type": "code",
   "execution_count": null,
   "metadata": {
    "collapsed": true
   },
   "outputs": [],
   "source": [
    "# Perform the DOE and generate the equations to be used\n"
   ]
  },
  {
   "cell_type": "code",
   "execution_count": 1,
   "metadata": {},
   "outputs": [],
   "source": [
    "import pandas as pd\n",
    "import numpy as np\n",
    "import math"
   ]
  },
  {
   "cell_type": "code",
   "execution_count": 2,
   "metadata": {},
   "outputs": [],
   "source": [
    "# Calculates the response values for\n",
    "# h, w, t, L, E\n",
    "# Units: mm, mm, mm, mm, Pa, N\n",
    "def generateResponseValues(h, w, t, L, E, F):\n",
    "    # Fixed Values needed for calculation\n",
    "    mt = 90.0 # Mass of Tube\n",
    "    rr = 600 #mm, Distance to center line\n",
    "    omega = 2 # rev/s, Rotational Speed\n",
    "    g = 9.81 # m/s^2\n",
    "    rho = 8.8E3 # kg/m^3\n",
    "    \n",
    "    # Calculations\n",
    "    #Area Moment of Inertia\n",
    "    wf = w+ 2*t# Flange Width\n",
    "    I = wf * (math.pow(t, 3)/6.0 + t*math.pow(h+t, 2)/2.0) + t * math.pow(h, 3)/6\n",
    "    # Tip Load\n",
    "    #Fstatic = mt * g\n",
    "    #Fdynamic = mt * (rr/1000) * math.pow(2 * math.pi * omega, 2)\n",
    "    #Fcalc = Fstatic + Fdynamic # Fmax\n",
    "    # Deflection\n",
    "    U = 1E6 * F * math.pow(L, 3)/(3 * E * I)\n",
    "    # Stress\n",
    "    M = F * L # Moment\n",
    "    S = M * (h/2 + t)/I # Stress\n",
    "    # Beam Mass\n",
    "    mb = 2E-9 * rho * L * t * (w + 2*t + h)\n",
    "    # Frequency\n",
    "    mbar = mt + 0.23 * mb\n",
    "    a = 0.003*E*I/(mbar*math.pow(L, 3))\n",
    "    freq = math.sqrt(a)/(2 * math.pi)    \n",
    "    return U, S, freq\n"
   ]
  },
  {
   "cell_type": "code",
   "execution_count": 3,
   "metadata": {},
   "outputs": [],
   "source": [
    "from pyDOE import *\n"
   ]
  },
  {
   "cell_type": "code",
   "execution_count": 4,
   "metadata": {},
   "outputs": [
    {
     "name": "stdout",
     "output_type": "stream",
     "text": [
      "DOE Runs: 200\n"
     ]
    }
   ],
   "source": [
    "#ccDesign_6Var = ccdesign(6, alpha='o', face='ccf')\n",
    "ccDesign_6Var = lhs(6, samples=200, criterion='m')\n",
    "print 'DOE Runs: %d'%(len(ccDesign_6Var))\n",
    "#print ccDesign_6Var"
   ]
  },
  {
   "cell_type": "code",
   "execution_count": 5,
   "metadata": {},
   "outputs": [],
   "source": [
    "# 6 Variables: h, w, t, L, E, F\n",
    "lb = np.array([80, 40, 2, 400, 180E9, 9000])\n",
    "ub = np.array([120, 60, 7, 600, 220E9, 11000])\n",
    "avg = 0.5 * (lb + ub)\n",
    "\n",
    "nDOE = len(ccDesign_6Var)\n",
    "\n",
    "# Values in physical space\n",
    "ccDesign_6Var_CodedSpace = ccDesign_6Var\n",
    "ccDesign_6Var_PhysicalSpace = np.ones([nDOE, 1]) * avg + np.multiply(np.ones([nDOE, 1]) * (ub - lb) * 0.5, ccDesign_6Var)\n",
    "h_PS = ccDesign_6Var_PhysicalSpace[:,0]\n",
    "w_PS = ccDesign_6Var_PhysicalSpace[:,1]\n",
    "t_PS = ccDesign_6Var_PhysicalSpace[:,2]\n",
    "L_PS = ccDesign_6Var_PhysicalSpace[:,3]\n",
    "E_PS = ccDesign_6Var_PhysicalSpace[:,4]\n",
    "F_PS = ccDesign_6Var_PhysicalSpace[:,5]\n",
    "\n",
    "deflection_PS = np.zeros([nDOE, 1])\n",
    "stress_PS = np.zeros([nDOE, 1])\n",
    "freq_PS = np.zeros([nDOE, 1])\n",
    "\n",
    "#print ccDesign_6Var_PhysicalSpace\n",
    "for iDOE in np.arange(nDOE):\n",
    "    deflection_PS[iDOE,:], stress_PS[iDOE, :], freq_PS[iDOE, :] = generateResponseValues(h_PS[iDOE], w_PS[iDOE], t_PS[iDOE], L_PS[iDOE], E_PS[iDOE], F_PS[iDOE])\n",
    "#iDOE = 1\n",
    "#print ccDesign_6Var_PhysicalSpace[iDOE,:]\n",
    "#a, b, c = generateResponseValues(ccDesign_6Var_PhysicalSpace[iDOE,0], ccDesign_6Var_PhysicalSpace[iDOE,1], ccDesign_6Var_PhysicalSpace[iDOE,2], ccDesign_6Var_PhysicalSpace[iDOE,3], ccDesign_6Var_PhysicalSpace[iDOE,4], ccDesign_6Var_PhysicalSpace[iDOE,5])\n",
    "#print a, b, c\n"
   ]
  },
  {
   "cell_type": "code",
   "execution_count": 6,
   "metadata": {},
   "outputs": [
    {
     "name": "stderr",
     "output_type": "stream",
     "text": [
      "/software/anaconda2/lib/python2.7/site-packages/sklearn/cross_validation.py:41: DeprecationWarning: This module was deprecated in version 0.18 in favor of the model_selection module into which all the refactored classes and functions are moved. Also note that the interface of the new CV iterators are different from that of this module. This module will be removed in 0.20.\n",
      "  \"This module will be removed in 0.20.\", DeprecationWarning)\n"
     ]
    }
   ],
   "source": [
    "# Fit the Response Surface on this\n",
    "# http://scikit-learn.org/0.17/auto_examples/model_selection/plot_underfitting_overfitting.html\n",
    "import numpy as np\n",
    "import matplotlib.pyplot as plt\n",
    "from sklearn.pipeline import Pipeline\n",
    "from sklearn.preprocessing import PolynomialFeatures\n",
    "from sklearn.linear_model import LinearRegression\n",
    "from sklearn import cross_validation"
   ]
  },
  {
   "cell_type": "code",
   "execution_count": null,
   "metadata": {},
   "outputs": [],
   "source": []
  },
  {
   "cell_type": "code",
   "execution_count": 7,
   "metadata": {},
   "outputs": [
    {
     "name": "stdout",
     "output_type": "stream",
     "text": [
      "['1', 'h', 'w', 't', 'L', 'E', 'F', 'h^2', 'h w', 'h t', 'h L', 'h E', 'h F', 'w^2', 'w t', 'w L', 'w E', 'w F', 't^2', 't L', 't E', 't F', 'L^2', 'L E', 'L F', 'E^2', 'E F', 'F^2']\n",
      "[-0.30966726 -0.38130969 -0.32775624 -0.17690096 -0.2451027  -0.26278895\n",
      " -0.13909684 -0.18309149 -0.44283919 -0.29681919]\n",
      "[[ 2.89331326e-16 -1.27829321e-15 -1.44483418e-20  2.83091054e-22\n",
      "  -1.50294541e-19  4.55671417e-11 -2.07008734e-18 -8.45375909e-18\n",
      "  -2.33659933e-18  4.71527796e-21 -2.82837907e-17  3.09269406e-12\n",
      "  -5.84605280e-16 -1.39688669e-18 -1.05159426e-19 -1.33273538e-17\n",
      "   1.49760206e-12 -3.54062531e-16  4.71874269e-21 -1.57289608e-18\n",
      "   3.05736147e-11 -1.41642599e-17 -2.07923206e-16 -8.28540220e-13\n",
      "  -2.29748084e-15 -1.04876060e-22  4.22593451e-16 -4.30748626e-14]]\n",
      "[27.50748961]\n",
      "[-0.00137928 -0.00044107 -0.00048068 -0.0004677  -0.00055287 -0.00084743\n",
      " -0.00029349 -0.00037346 -0.00165725 -0.00039856]\n",
      "[-9.35194177 -3.20673114 -2.76417588 -3.85540281 -2.8963138  -2.79723537\n",
      " -1.91371082 -3.5521173  -6.9827009  -2.47861525]\n"
     ]
    },
    {
     "data": {
      "text/plain": [
       "['stress_rs.pkl']"
      ]
     },
     "execution_count": 7,
     "metadata": {},
     "output_type": "execute_result"
    }
   ],
   "source": [
    "from sklearn.externals import joblib\n",
    "# http://scikit-learn.org/stable/modules/model_persistence.html\n",
    "polynomial_features = PolynomialFeatures(degree=2, include_bias=True)\n",
    "linear_regression = LinearRegression()\n",
    "pipeline = Pipeline([(\"polynomial_features\", polynomial_features),(\"linear_regression\", linear_regression)])\n",
    "\n",
    "pipeline.fit(ccDesign_6Var_PhysicalSpace, freq_PS)\n",
    "print polynomial_features.get_feature_names(['h', 'w', 't', 'L', 'E', 'F'])\n",
    "# Evaluate the models using crossvalidation\n",
    "scores = cross_validation.cross_val_score(pipeline, ccDesign_6Var_PhysicalSpace, freq_PS, scoring=\"neg_mean_squared_error\", cv=10)\n",
    "print scores\n",
    "print pipeline.steps[1][1].coef_\n",
    "print pipeline.steps[1][1].intercept_\n",
    "joblib.dump(pipeline, 'freq_rs.pkl')\n",
    "\n",
    "\n",
    "pipeline.fit(ccDesign_6Var_PhysicalSpace, deflection_PS)\n",
    "# Evaluate the models using crossvalidation\n",
    "scores = cross_validation.cross_val_score(pipeline, ccDesign_6Var_PhysicalSpace, deflection_PS, scoring=\"neg_mean_squared_error\", cv=10)\n",
    "print scores\n",
    "joblib.dump(pipeline, 'deflection_rs.pkl')\n",
    "\n",
    "pipeline.fit(ccDesign_6Var_PhysicalSpace, stress_PS)\n",
    "# Evaluate the models using crossvalidation\n",
    "scores = cross_validation.cross_val_score(pipeline, ccDesign_6Var_PhysicalSpace, stress_PS, scoring=\"neg_mean_squared_error\", cv=10)\n",
    "print scores\n",
    "joblib.dump(pipeline, 'stress_rs.pkl')\n"
   ]
  },
  {
   "cell_type": "code",
   "execution_count": 8,
   "metadata": {},
   "outputs": [
    {
     "name": "stdout",
     "output_type": "stream",
     "text": [
      "['1', 'h', 'w', 't', 'L', 'E', 'F', 'h^2', 'h w', 'h t', 'h L', 'h E', 'h F', 'w^2', 'w t', 'w L', 'w E', 'w F', 't^2', 't L', 't E', 't F', 'L^2', 'L E', 'L F', 'E^2', 'E F', 'F^2']\n",
      "[-0.00124547 -0.00098798 -0.00109217 -0.00116422 -0.00167871 -0.00221388\n",
      " -0.00059816 -0.00188461 -0.00277198 -0.00120081]\n",
      "[[ 1.67692520e-15  1.24296317e+01  3.00789347e+00  1.71152873e+01\n",
      "  -1.64572294e+01  2.75922299e+00  7.04277619e-02  3.01226427e-01\n",
      "   3.95875939e-01  2.85756880e+00 -3.46811386e+00  6.31450863e-01\n",
      "  -4.41378576e-03 -4.27733830e-02  7.05670855e-01 -8.93824384e-01\n",
      "   1.37235059e-01 -2.71415549e-03 -1.02390412e+00 -4.47455182e+00\n",
      "   7.13836006e-01 -1.25566328e-02  3.84953656e+00 -8.25870603e-01\n",
      "  -1.56428119e-02 -7.44215258e-02  9.98594165e-03 -5.11969342e-02]]\n",
      "[54.04478532]\n",
      "[-4.89517170e-05 -1.75839784e-05 -5.07854694e-06 -4.41858567e-06\n",
      " -8.57721955e-06 -1.02943695e-05 -6.41143453e-06 -9.48992131e-06\n",
      " -4.83359807e-05 -7.03713324e-06]\n",
      "[-0.21437212 -0.10764742 -0.02960895 -0.05648635 -0.05247106 -0.0262931\n",
      " -0.03947965 -0.04672238 -0.12180833 -0.04158498]\n"
     ]
    },
    {
     "data": {
      "text/plain": [
       "['stress_rs_coded.pkl']"
      ]
     },
     "execution_count": 8,
     "metadata": {},
     "output_type": "execute_result"
    }
   ],
   "source": [
    "from sklearn.externals import joblib\n",
    "# Coded Space Response Surface Fit\n",
    "# http://scikit-learn.org/stable/modules/model_persistence.html\n",
    "polynomial_features = PolynomialFeatures(degree=2, include_bias=True)\n",
    "linear_regression = LinearRegression()\n",
    "pipeline = Pipeline([(\"polynomial_features\", polynomial_features),(\"linear_regression\", linear_regression)])\n",
    "\n",
    "pipeline.fit(ccDesign_6Var_CodedSpace, freq_PS)\n",
    "print polynomial_features.get_feature_names(['h', 'w', 't', 'L', 'E', 'F'])\n",
    "# Evaluate the models using crossvalidation\n",
    "scores = cross_validation.cross_val_score(pipeline, ccDesign_6Var_CodedSpace, freq_PS, scoring=\"neg_mean_squared_error\", cv=10)\n",
    "print scores\n",
    "print pipeline.steps[1][1].coef_\n",
    "print pipeline.steps[1][1].intercept_\n",
    "joblib.dump(pipeline, 'freq_rs_coded.pkl')\n",
    "\n",
    "\n",
    "pipeline.fit(ccDesign_6Var_CodedSpace, deflection_PS)\n",
    "# Evaluate the models using crossvalidation\n",
    "scores = cross_validation.cross_val_score(pipeline, ccDesign_6Var_CodedSpace, deflection_PS, scoring=\"neg_mean_squared_error\", cv=10)\n",
    "print scores\n",
    "joblib.dump(pipeline, 'deflection_rs_coded.pkl')\n",
    "\n",
    "pipeline.fit(ccDesign_6Var_CodedSpace, stress_PS)\n",
    "# Evaluate the models using crossvalidation\n",
    "scores = cross_validation.cross_val_score(pipeline, ccDesign_6Var_CodedSpace, stress_PS, scoring=\"neg_mean_squared_error\", cv=10)\n",
    "print scores\n",
    "joblib.dump(pipeline, 'stress_rs_coded.pkl')"
   ]
  },
  {
   "cell_type": "code",
   "execution_count": 13,
   "metadata": {},
   "outputs": [
    {
     "name": "stdout",
     "output_type": "stream",
     "text": [
      "[[-8.78574196e-15 -3.13599757e+01 -1.25228149e+01 -6.58098538e+01\n",
      "   2.30744047e+01  5.09394786e-02  1.12848886e+01  4.25671178e+00\n",
      "   2.96186075e+00  1.09095494e+01 -4.25634350e+00  2.49601291e-01\n",
      "  -1.91308236e+00  6.00319605e-01  4.43255596e+00 -1.54568194e+00\n",
      "  -3.40897861e-01 -6.14021725e-01  1.95326241e+01 -7.85242973e+00\n",
      "  -1.96731543e-01 -4.14727339e+00 -1.82264349e-01 -2.34825721e-02\n",
      "   1.62901412e+00 -1.10479801e-01  4.89951871e-01 -8.48656607e-02]]\n",
      "[-3.13599757e+01 -1.25228149e+01 -6.58098538e+01  2.30744047e+01\n",
      "  5.09394786e-02  1.12848886e+01  4.25671178e+00  2.96186075e+00\n",
      "  1.09095494e+01 -4.25634350e+00  2.49601291e-01 -1.91308236e+00\n",
      "  6.00319605e-01  4.43255596e+00 -1.54568194e+00 -3.40897861e-01\n",
      " -6.14021725e-01  1.95326241e+01 -7.85242973e+00 -1.96731543e-01\n",
      " -4.14727339e+00 -1.82264349e-01 -2.34825721e-02  1.62901412e+00\n",
      " -1.10479801e-01  4.89951871e-01 -8.48656607e-02]\n"
     ]
    }
   ],
   "source": [
    "# Offset Coefficient by 1\n",
    "# First term is a constant term that is captured in intercept\n",
    "coef_tmp = pipeline.steps[1][1].coef_\n",
    "print coef_tmp\n",
    "print coef_tmp[0,1:]"
   ]
  },
  {
   "cell_type": "code",
   "execution_count": 26,
   "metadata": {},
   "outputs": [
    {
     "name": "stdout",
     "output_type": "stream",
     "text": [
      "[2.0+/-0.1 3.0+/-0.1]\n",
      "[2. 3.] [0.1 0.1]\n",
      "[[2.0+/-0.1 3.0+/-0.1]]\n",
      "[[2.0+/-0.1]\n",
      " [3.0+/-0.1]]\n",
      "[[4.0+/-0.4 6.0+/-0.36055512754639896]\n",
      " [6.0+/-0.36055512754639896 9.0+/-0.6000000000000001]]\n",
      "[[-4503599627370496.0+/-0 3002399751580330.5+/-0]\n",
      " [3002399751580330.5+/-0 -2001599834386887.0+/-0]]\n"
     ]
    }
   ],
   "source": [
    "# Try matrix multiplication of ufloat\n",
    "# http://sys-bio.org/wp-content/uploads/2017/11/errorPropagation.pdf\n",
    "from uncertainties import ufloat\n",
    "from uncertainties import unumpy\n",
    "a = ufloat(2, 0.1)\n",
    "b = ufloat(3, 0.1)\n",
    "a_array = np.array([a, b])\n",
    "print a_array\n",
    "a_nom = unumpy.nominal_values(a_array)\n",
    "a_std = unumpy.std_devs(a_array)\n",
    "a_mat = unumpy.umatrix(a_nom, a_std)\n",
    "print a_nom, a_std\n",
    "print a_mat\n",
    "print a_mat.transpose()\n",
    "print a_mat.transpose() * a_mat\n"
   ]
  },
  {
   "cell_type": "code",
   "execution_count": null,
   "metadata": {},
   "outputs": [],
   "source": []
  }
 ],
 "metadata": {
  "kernelspec": {
   "display_name": "Python 2",
   "language": "python",
   "name": "python2"
  },
  "language_info": {
   "codemirror_mode": {
    "name": "ipython",
    "version": 2
   },
   "file_extension": ".py",
   "mimetype": "text/x-python",
   "name": "python",
   "nbconvert_exporter": "python",
   "pygments_lexer": "ipython2",
   "version": "2.7.14"
  }
 },
 "nbformat": 4,
 "nbformat_minor": 2
}
